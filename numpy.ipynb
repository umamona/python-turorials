{
  "nbformat": 4,
  "nbformat_minor": 0,
  "metadata": {
    "colab": {
      "provenance": [],
      "authorship_tag": "ABX9TyPo9rANHXqpVfmVMCcB+uKh",
      "include_colab_link": true
    },
    "kernelspec": {
      "name": "python3",
      "display_name": "Python 3"
    },
    "language_info": {
      "name": "python"
    }
  },
  "cells": [
    {
      "cell_type": "markdown",
      "metadata": {
        "id": "view-in-github",
        "colab_type": "text"
      },
      "source": [
        "<a href=\"https://colab.research.google.com/github/umamona/python-turorials/blob/main/numpy.ipynb\" target=\"_parent\"><img src=\"https://colab.research.google.com/assets/colab-badge.svg\" alt=\"Open In Colab\"/></a>"
      ]
    },
    {
      "cell_type": "code",
      "execution_count": 4,
      "metadata": {
        "colab": {
          "base_uri": "https://localhost:8080/"
        },
        "id": "yVZUkO6J9L2V",
        "outputId": "b38a531e-e696-4b30-cdd8-a11053f5a669"
      },
      "outputs": [
        {
          "output_type": "execute_result",
          "data": {
            "text/plain": [
              "array([-17.22222222, -28.33333333, -20.        , -25.55555556,\n",
              "       -17.22222222])"
            ]
          },
          "metadata": {},
          "execution_count": 4
        }
      ],
      "source": [
        "import numpy as np\n",
        "import  math\n",
        "#convertion from number to farenheit\n",
        "farenheit=np.array([0,-20,-5,-15,0])\n",
        "\n",
        "#formula for conversion if ((Degree F-32)*5/9 =degree C)\n",
        "celcius=(farenheit-31)*(5/9)\n",
        "celcius"
      ]
    },
    {
      "cell_type": "code",
      "source": [
        "celcius>-20"
      ],
      "metadata": {
        "colab": {
          "base_uri": "https://localhost:8080/"
        },
        "id": "gSInDrAc9Y0b",
        "outputId": "e286ed91-9842-4d9d-d2f7-6ebcb5008ca0"
      },
      "execution_count": 5,
      "outputs": [
        {
          "output_type": "execute_result",
          "data": {
            "text/plain": [
              "array([ True, False, False, False,  True])"
            ]
          },
          "metadata": {},
          "execution_count": 5
        }
      ]
    },
    {
      "cell_type": "code",
      "source": [
        "#modulus operator to numbers in array to see if they are even\n",
        "celcius%2==0"
      ],
      "metadata": {
        "colab": {
          "base_uri": "https://localhost:8080/"
        },
        "id": "eWOR9rCM9wfA",
        "outputId": "3fa815d9-ae85-4fb2-eeb3-f3072d09342a"
      },
      "execution_count": 6,
      "outputs": [
        {
          "output_type": "execute_result",
          "data": {
            "text/plain": [
              "array([False, False,  True, False, False])"
            ]
          },
          "metadata": {},
          "execution_count": 6
        }
      ]
    },
    {
      "cell_type": "code",
      "source": [],
      "metadata": {
        "id": "h_HWD5FU90UB"
      },
      "execution_count": null,
      "outputs": []
    }
  ]
}